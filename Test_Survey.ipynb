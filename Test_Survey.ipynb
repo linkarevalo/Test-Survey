{
 "cells": [
  {
   "cell_type": "markdown",
   "metadata": {},
   "source": [
    "# GIS Map Survey\n",
    "Благодарим Вас за то, что Вы согласились ответить на несколько вопросов. Ваши ответы помогут уточнить географию участников Международной студенческой площадки «UNI4CITY» и детализировать представления о студенческой жизни в г. Томске.\n",
    "\n",
    "_Thank you for participating in this survey. Please, take a moment to answer a few questions. Your answers will help us gather some geographical information of participants in the International Student Event UNI4CITY and have more details about student life in Tomsk._"
   ]
  },
  {
   "cell_type": "code",
   "execution_count": 15,
   "metadata": {
    "ExecuteTime": {
     "end_time": "2020-05-18T12:57:19.312045Z",
     "start_time": "2020-05-18T12:57:19.236250Z"
    },
    "scrolled": false
   },
   "outputs": [
    {
     "data": {
      "application/vnd.jupyter.widget-view+json": {
       "model_id": "fe053dca1d1d4a2380d19509ec74f74a",
       "version_major": 2,
       "version_minor": 0
      },
      "text/plain": [
       "HTML(value='<b>1. Ваш возраст?</b> / <i>What is your age?</i>')"
      ]
     },
     "metadata": {},
     "output_type": "display_data"
    },
    {
     "data": {
      "application/vnd.jupyter.widget-view+json": {
       "model_id": "e1bcbde7d7b94170b82c559825d49b23",
       "version_major": 2,
       "version_minor": 0
      },
      "text/plain": [
       "Dropdown(options=('Затрудняюсь ответить / No answer', 13, 14, 15, 16, 17, 18, 19, 20, 21, 22, 23, 24, 25, 26, …"
      ]
     },
     "metadata": {},
     "output_type": "display_data"
    },
    {
     "data": {
      "application/vnd.jupyter.widget-view+json": {
       "model_id": "8aa143d1ff4941ce8fc94d05fd0a7651",
       "version_major": 2,
       "version_minor": 0
      },
      "text/plain": [
       "HTML(value='<b>2. Вы иностранный студент или студент из России?</b> / <i>Are you a foreign student or a Russia…"
      ]
     },
     "metadata": {},
     "output_type": "display_data"
    },
    {
     "data": {
      "application/vnd.jupyter.widget-view+json": {
       "model_id": "c65f514cba934f1f95b3f698de8233bf",
       "version_major": 2,
       "version_minor": 0
      },
      "text/plain": [
       "RadioButtons(index=2, layout=Layout(width='initial'), options=('Иностранный / Foreign', 'Из России / Russian',…"
      ]
     },
     "metadata": {},
     "output_type": "display_data"
    },
    {
     "data": {
      "application/vnd.jupyter.widget-view+json": {
       "model_id": "e4e01e99cd1d49cabfe28e2c029c5b1e",
       "version_major": 2,
       "version_minor": 0
      },
      "text/plain": [
       "HTML(value='<b>3. Если Вы иностранный студент, из какой страны Вы приехали?</b> / <i>If you are a foreign stud…"
      ]
     },
     "metadata": {},
     "output_type": "display_data"
    },
    {
     "data": {
      "application/vnd.jupyter.widget-view+json": {
       "model_id": "f3302efacad044919d82d569b4b72c80",
       "version_major": 2,
       "version_minor": 0
      },
      "text/plain": [
       "Text(value='', description='Ответ / Answer:', style=DescriptionStyle(description_width='initial'))"
      ]
     },
     "metadata": {},
     "output_type": "display_data"
    },
    {
     "data": {
      "application/vnd.jupyter.widget-view+json": {
       "model_id": "5e2d4e8f6a254fcaa232ce1999111f29",
       "version_major": 2,
       "version_minor": 0
      },
      "text/plain": [
       "HTML(value='<b>4. Где Вы проводите большую часть своего свободного времени в Томске? (Нажмите на карту, чтобы …"
      ]
     },
     "metadata": {},
     "output_type": "display_data"
    },
    {
     "data": {
      "application/vnd.jupyter.widget-view+json": {
       "model_id": "f307a3a6b2c14952882b134b0457d3a3",
       "version_major": 2,
       "version_minor": 0
      },
      "text/plain": [
       "Map(basemap={'url': 'https://{s}.tile.openstreetmap.org/{z}/{x}/{y}.png', 'max_zoom': 19, 'attribution': 'Map …"
      ]
     },
     "metadata": {},
     "output_type": "display_data"
    },
    {
     "data": {
      "application/vnd.jupyter.widget-view+json": {
       "model_id": "cc55b7dfbe4b4e44b9c6ab425ebd331c",
       "version_major": 2,
       "version_minor": 0
      },
      "text/plain": [
       "HTML(value='<i>Маркер не установлен / No marker set</i>')"
      ]
     },
     "metadata": {},
     "output_type": "display_data"
    },
    {
     "data": {
      "application/vnd.jupyter.widget-view+json": {
       "model_id": "f27d63a4758b4254ae65b8e095801756",
       "version_major": 2,
       "version_minor": 0
      },
      "text/plain": [
       "HTML(value='<i><b>Пожалуйста, нажмите кнопку ниже, чтобы отправить свои ответы. / Please press the button belo…"
      ]
     },
     "metadata": {},
     "output_type": "display_data"
    },
    {
     "data": {
      "application/vnd.jupyter.widget-view+json": {
       "model_id": "c2c6941ce6404a13adf6cd692d3ba056",
       "version_major": 2,
       "version_minor": 0
      },
      "text/plain": [
       "Button(description='Отправить данные / Send data', layout=Layout(height='60px', width='auto'), style=ButtonSty…"
      ]
     },
     "metadata": {},
     "output_type": "display_data"
    },
    {
     "data": {
      "application/vnd.jupyter.widget-view+json": {
       "model_id": "8e0ac0ff8d8949938f0977b91657f464",
       "version_major": 2,
       "version_minor": 0
      },
      "text/plain": [
       "HTML(value='')"
      ]
     },
     "metadata": {},
     "output_type": "display_data"
    },
    {
     "data": {
      "application/vnd.jupyter.widget-view+json": {
       "model_id": "3858365b0ab44ca1ac926b5964343604",
       "version_major": 2,
       "version_minor": 0
      },
      "text/plain": [
       "HTML(value='')"
      ]
     },
     "metadata": {},
     "output_type": "display_data"
    }
   ],
   "source": [
    "from ipyleaflet import Map, Marker, LayerGroup\n",
    "from ipywidgets import Label, Button, RadioButtons, Layout, HTML, Dropdown, Text\n",
    "import gspread\n",
    "from oauth2client.service_account import ServiceAccountCredentials\n",
    "\n",
    "# Question 1 / Вопрос 1\n",
    "\n",
    "age_question_label = HTML(value='<b>1. Ваш возраст?</b> / <i>What is your age?</i>')\n",
    "\n",
    "ages = ['Затрудняюсь ответить / No answer']\n",
    "ages.extend(list(range(13, 100))) \n",
    "\n",
    "age_question = Dropdown(\n",
    "    options=ages,\n",
    "    value='Затрудняюсь ответить / No answer')\n",
    "\n",
    "# Question 2 / Вопрос 2\n",
    "\n",
    "origin_question_label = HTML(value='<b>2. Вы иностранный студент или студент из России?</b> / <i>Are you a foreign student or a Russian student?</i>')\n",
    "\n",
    "origin_question = RadioButtons(\n",
    "    options=['Иностранный / Foreign', 'Из России / Russian', 'Затрудняюсь ответить / No answer'],\n",
    "    value='Затрудняюсь ответить / No answer',\n",
    "    layout={'width': 'initial'},\n",
    "    style = {'description_width': 'initial'},\n",
    "    disabled=False)\n",
    "\n",
    "# Question 3 / Вопрос 2\n",
    "\n",
    "country_question_label = HTML(value='<b>3. Если Вы иностранный студент, из какой страны Вы приехали?</b> / <i>If you are a foreign student, what country are you from?</i>')\n",
    "\n",
    "country_question = Text(description='Ответ / Answer:', style={'description_width': 'initial'})\n",
    "\n",
    "# Map / Карта\n",
    "\n",
    "map1_label = HTML(value = '<b>4. Где Вы проводите большую часть своего свободного времени в Томске? (Нажмите на карту, чтобы установить маркер)</b> / <i>Where do you spend most of your free time in Tomsk? (Click on the map to set a marker)</i>')\n",
    "\n",
    "layer_group1 = LayerGroup()\n",
    "\n",
    "center = (56.4971944, 84.9837908)\n",
    "\n",
    "map1 = Map(center=center, zoom=11,\n",
    "        dragging=True,\n",
    "        scroll_wheel_zoom=True)\n",
    "\n",
    "map1.layout.width = '70%'\n",
    "map1.layout.height = '450px'\n",
    "\n",
    "map1_coord = HTML(value='<i>Маркер не установлен / No marker set</i>')\n",
    "\n",
    "def handle_click1(**kwargs):\n",
    "    if kwargs.get('type') == 'click':\n",
    "        layer_group1.clear_layers()\n",
    "        map1_coord.value = str(kwargs.get('coordinates'))\n",
    "        point = Marker(location=kwargs.get('coordinates'))\n",
    "        layer_group1.add_layer(point)\n",
    "        try:\n",
    "            map1.add_layer(layer_group1)\n",
    "        except:\n",
    "            pass\n",
    "\n",
    "map1.on_interaction(handle_click1)\n",
    "\n",
    "\n",
    "# Send button / Кнопка отправки \n",
    "\n",
    "send_instructions = HTML('<i><b>Пожалуйста, нажмите кнопку ниже, чтобы отправить свои ответы. / Please press the button below to send your answers.')\n",
    "\n",
    "send_label1 = HTML()\n",
    "send_label2 = HTML()\n",
    "\n",
    "send_button = Button(description='Отправить данные / Send data',\n",
    "                             layout=Layout(width='auto', height='60px'))\n",
    "\n",
    "def send_button_clicked(_):\n",
    "    send_label1.value = 'Подождите, пожалуйста ... / Please wait a moment...'\n",
    "    try:\n",
    "        new_row = [\n",
    "            age_question.value,\n",
    "            origin_question.value,\n",
    "            country_question.value,\n",
    "            layer_group1.layers[0].location[0],\n",
    "            layer_group1.layers[0].location[1]\n",
    "        ]\n",
    "        scope = ['https://spreadsheets.google.com/feeds',\n",
    "                 'https://www.googleapis.com/auth/drive']\n",
    "        creds = ServiceAccountCredentials.from_json_keyfile_name('client_secret.json', scope)\n",
    "        client = gspread.authorize(creds)\n",
    "        sheet = client.open(\"Test_spreadsheet\").sheet1\n",
    "        sheet.append_row(new_row)\n",
    "        send_label2.value = \"<b>Спасибо! Ваш ответ был записан. / Thank you! Your answer has been recorded.</b>\"\n",
    "        send_button.disabled = True\n",
    "    except:\n",
    "        send_label1.value = '<b>Вы не установили маркер на одной или нескольких картах. Пожалуйста, проверьте и нажмите кнопку еще раз. <br/> You have not set a marker in one or more of the maps. Please check and press the button again.</b>' \n",
    "    \n",
    "send_button.on_click(send_button_clicked)\n",
    "\n",
    "\n",
    "# Display user interface / Показать пользовательский интерфейс\n",
    "\n",
    "display(age_question_label)\n",
    "display(age_question)\n",
    "\n",
    "display(origin_question_label)\n",
    "display(origin_question)\n",
    "\n",
    "display(country_question_label)\n",
    "display(country_question)\n",
    "\n",
    "display(map1_label)\n",
    "display(map1)\n",
    "display(map1_coord)\n",
    "\n",
    "display(send_instructions)\n",
    "display(send_button)\n",
    "display(send_label1)\n",
    "display(send_label2)"
   ]
  },
  {
   "cell_type": "code",
   "execution_count": null,
   "metadata": {},
   "outputs": [],
   "source": []
  }
 ],
 "metadata": {
  "hide_input": false,
  "kernelspec": {
   "display_name": "Python 3",
   "language": "python",
   "name": "python3"
  },
  "language_info": {
   "codemirror_mode": {
    "name": "ipython",
    "version": 3
   },
   "file_extension": ".py",
   "mimetype": "text/x-python",
   "name": "python",
   "nbconvert_exporter": "python",
   "pygments_lexer": "ipython3",
   "version": "3.7.3"
  }
 },
 "nbformat": 4,
 "nbformat_minor": 2
}
